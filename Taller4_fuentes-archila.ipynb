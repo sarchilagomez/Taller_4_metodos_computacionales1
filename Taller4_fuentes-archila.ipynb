{
 "cells": [
  {
   "cell_type": "markdown",
   "metadata": {},
   "source": [
    "TALLER 4 - Métodos computacionales\n",
    "Catalina Fuentes y Silvana Archila"
   ]
  },
  {
   "cell_type": "markdown",
   "metadata": {},
   "source": [
    "EJERCICIO # 1: CÁLCULO DE PROBABILIDAD"
   ]
  },
  {
   "cell_type": "markdown",
   "metadata": {},
   "source": [
    "Literal 1"
   ]
  },
  {
   "cell_type": "code",
   "execution_count": 34,
   "metadata": {},
   "outputs": [],
   "source": [
    "#Creo la baraja de cartas\n",
    "import random \n",
    "\n",
    "class Carta(object):\n",
    "    def __init__(self,tipo,val):\n",
    "        self.tipo = tipo\n",
    "        self.valor = val\n",
    "\n",
    "    def mostrar(self):\n",
    "        print(self.valor, \"de\", self.tipo)\n",
    "\n",
    "class Mazo(object):\n",
    "    def __init__(self):\n",
    "        self.cartas = []\n",
    "        self.build()\n",
    "\n",
    "    def build(self):\n",
    "        for s in [\"Espadas\", \"Tréboles\", \"Diamantes\", \"Corazones\"]:\n",
    "            for v in range(1,14):\n",
    "                self.cartas.append(Carta(s, v))\n",
    "    \n",
    "    def mostrar(self):\n",
    "        for c in self.cartas:\n",
    "            c.show()\n",
    "\n",
    "    def barajar(self):\n",
    "        for i in range(len(self.cartas)-1,0,-1):\n",
    "            r = random.randint(0,i)\n",
    "            self.cartas[i], self.cartas[r] = self.cartas[r], self.cartas[i]\n",
    "    \n",
    "    def elegirCarta(self):\n",
    "        return self.cartas.pop()\n",
    "    \n",
    "class Jugador(object):\n",
    "    def __init__(self, nombre):\n",
    "        self.nombre = nombre\n",
    "        self.mano = []\n",
    "\n",
    "    def sortear(self,mazo):\n",
    "        self.mano.append(mazo.elegirCarta())\n",
    "        return self\n",
    "\n",
    "    def mostrarMano(self):\n",
    "        for carta in self.mano:\n",
    "            carta.mostrar()\n",
    "\n",
    "    def descartar(self):\n",
    "        return self.mano.pop()"
   ]
  },
  {
   "cell_type": "code",
   "execution_count": 35,
   "metadata": {},
   "outputs": [
    {
     "name": "stdout",
     "output_type": "stream",
     "text": [
      "La probabilidad de que las siguientes 3 cartas sean espadas, dado que las primeras 2 son espadas es: 0.00622\n",
      "Probabilidad teórica: 0.0084\n"
     ]
    }
   ],
   "source": [
    "# PUNTO A\n",
    "import random\n",
    "\n",
    "def simulacion(n_simulaciones):\n",
    "    contador_exitos = 0  \n",
    "    contador_doble = 0\n",
    "\n",
    "    for i in range(n_simulaciones):\n",
    "        mazo = Mazo()\n",
    "        mazo.barajar()\n",
    "        \n",
    "        primera_carta = mazo.elegirCarta()\n",
    "        segunda_carta = mazo.elegirCarta()\n",
    "\n",
    "        exito = False  \n",
    "\n",
    "        if primera_carta.tipo == \"Espadas\" and segunda_carta.tipo == \"Espadas\":\n",
    "            exito = True\n",
    "            contador_doble += 1\n",
    "\n",
    "        if exito == True:\n",
    "            tercera_carta = mazo.elegirCarta()\n",
    "            if tercera_carta.tipo == \"Espadas\":               \n",
    "                cuarta_carta = mazo.elegirCarta()\n",
    "                if cuarta_carta.tipo ==\"Espadas\":\n",
    "                    quinta_carta = mazo.elegirCarta()\n",
    "                    if quinta_carta.tipo != \"Espadas\":\n",
    "                        exito=False    \n",
    "                        \n",
    "                    elif exito == True:\n",
    "                        contador_exitos += 1\n",
    "\n",
    "    probabilidad = (contador_exitos / contador_doble)\n",
    "    return probabilidad\n",
    "\n",
    "n_simulaciones = 100000\n",
    "probabilidad = simulacion(n_simulaciones)\n",
    "probabilidad = round(probabilidad, 5)\n",
    "\n",
    "print(\"La probabilidad de que las siguientes 3 cartas sean espadas, dado que las primeras 2 son espadas es:\", probabilidad)\n",
    "print(\"Probabilidad teórica: 0.0084\")"
   ]
  },
  {
   "cell_type": "code",
   "execution_count": 36,
   "metadata": {},
   "outputs": [
    {
     "name": "stdout",
     "output_type": "stream",
     "text": [
      "La probabilidad de que las siguientes 2 cartas sean espadas, dado que las primeras 3 son espadas es: 0.042\n",
      "Probabilidad teórica: 0.0383\n"
     ]
    }
   ],
   "source": [
    "# PUNTO B\n",
    "def simulacion2(n_simulaciones):\n",
    "    contador_exitos = 0  \n",
    "    contador_doble = 0\n",
    "\n",
    "    for i in range(n_simulaciones):\n",
    "        mazo = Mazo()\n",
    "        mazo.barajar()\n",
    "        \n",
    "        primera_carta = mazo.elegirCarta()\n",
    "        segunda_carta = mazo.elegirCarta()\n",
    "        tercera_carta = mazo.elegirCarta()\n",
    "\n",
    "        exito = False  \n",
    "\n",
    "        if primera_carta.tipo == \"Espadas\" and segunda_carta.tipo == \"Espadas\" and tercera_carta.tipo == \"Espadas\":\n",
    "            exito = True\n",
    "            contador_doble += 1\n",
    "\n",
    "        if exito == True:              \n",
    "            cuarta_carta = mazo.elegirCarta()\n",
    "            if cuarta_carta.tipo ==\"Espadas\":\n",
    "                quinta_carta = mazo.elegirCarta()\n",
    "                if quinta_carta.tipo != \"Espadas\":\n",
    "                    exito = False    \n",
    "                    \n",
    "                elif exito == True:\n",
    "                    contador_exitos += 1\n",
    "\n",
    "    probabilidad = (contador_exitos / contador_doble)\n",
    "    return probabilidad\n",
    "\n",
    "n_simulaciones = 100000\n",
    "probabilidad = simulacion2(n_simulaciones)\n",
    "probabilidad = round(probabilidad, 4)\n",
    "\n",
    "print(\"La probabilidad de que las siguientes 2 cartas sean espadas, dado que las primeras 3 son espadas es:\", probabilidad)\n",
    "print(\"Probabilidad teórica: 0.0383\")\n"
   ]
  },
  {
   "cell_type": "code",
   "execution_count": 37,
   "metadata": {},
   "outputs": [
    {
     "name": "stdout",
     "output_type": "stream",
     "text": [
      "La probabilidad de que la siguiente cartas sea espada, dado que las primeras 4 son espadas es: 0.14228\n",
      "Probabilidad teórica: 0.1875\n"
     ]
    }
   ],
   "source": [
    "# PUNTO C\n",
    "def simulacion3(n_simulaciones):\n",
    "    contador_exitos = 0  \n",
    "    contador_doble = 0\n",
    "\n",
    "    for i in range(n_simulaciones):\n",
    "        mazo = Mazo()\n",
    "        mazo.barajar()\n",
    "        \n",
    "        primera_carta = mazo.elegirCarta()\n",
    "        segunda_carta = mazo.elegirCarta()\n",
    "        tercera_carta = mazo.elegirCarta()\n",
    "        cuarta_carta = mazo.elegirCarta()\n",
    "\n",
    "        exito = False  \n",
    "\n",
    "        if primera_carta.tipo == \"Espadas\" and segunda_carta.tipo == \"Espadas\" and tercera_carta.tipo == \"Espadas\" and cuarta_carta.tipo == \"Espadas\":\n",
    "            exito = True\n",
    "            contador_doble += 1\n",
    "\n",
    "        if exito == True:              \n",
    "            quinta_carta = mazo.elegirCarta()\n",
    "            if quinta_carta.tipo != \"Espadas\":\n",
    "                exito = False    \n",
    "                \n",
    "            elif exito == True:\n",
    "                contador_exitos += 1\n",
    "\n",
    "    probabilidad = (contador_exitos / contador_doble)\n",
    "    return probabilidad\n",
    "\n",
    "n_simulaciones = 100000\n",
    "probabilidad = simulacion3(n_simulaciones)\n",
    "probabilidad = round(probabilidad, 5)\n",
    "\n",
    "print(\"La probabilidad de que la siguiente cartas sea espada, dado que las primeras 4 son espadas es:\", probabilidad)\n",
    "print(\"Probabilidad teórica: 0.1875\")"
   ]
  },
  {
   "cell_type": "markdown",
   "metadata": {},
   "source": [
    "Literal 2"
   ]
  },
  {
   "cell_type": "code",
   "execution_count": 38,
   "metadata": {},
   "outputs": [],
   "source": [
    "#Creo las clases que representan la situación\n",
    "class prob(object):\n",
    "    def __init__(self, tipo):\n",
    "        self.tipo=tipo\n",
    "\n",
    "    def show(self):\n",
    "        print(self.tipo)\n",
    "\n",
    "class expo(object):\n",
    "    def __init__(self):\n",
    "        self.expo=[]\n",
    "        self.build()\n",
    "    \n",
    "    def build(self):\n",
    "        for s in [\"Exposición\"]:\n",
    "            for v in range(1,7):\n",
    "                self.expo.append(prob(s))\n",
    "        for s in [\"No_Exposición\"]:\n",
    "            for v in range(1,5):\n",
    "                self.expo.append(prob(s))\n",
    "\n",
    "    def show(self):\n",
    "        for c in self.expo:\n",
    "            c.show()\n",
    "            \n",
    "    def shuffle(self):\n",
    "        for i in range(len(self.expo)-1,0,-1):\n",
    "            r = random.randint(0,i)\n",
    "            self.expo[i],self.expo[r]=self.expo[r],self.expo[i]\n",
    "    def elegir(self):\n",
    "        return self.expo.pop()\n",
    "\n",
    "class vacuna(object):\n",
    "    def __init__(self):\n",
    "        self.suero=[]\n",
    "        self.build()\n",
    "    \n",
    "    def build(self):\n",
    "        for s in [\"Inmune\"]:\n",
    "            for v in range(1,9):\n",
    "                self.suero.append(prob(s))\n",
    "        for s in [\"Contagio\"]:\n",
    "            for v in range(1,3):\n",
    "                self.suero.append(prob(s))\n",
    "    def show(self):\n",
    "        for c in self.suero:\n",
    "            c.show()\n",
    "    \n",
    "    def shuffle(self):\n",
    "        for i in range(len(self.suero)-1,0,-1):\n",
    "            r = random.randint(0,i)\n",
    "            self.suero[i],self.suero[r]=self.suero[r],self.suero[i]\n",
    "\n",
    "    def elegir(self):\n",
    "        return self.suero.pop()\n",
    "    \n",
    "class antivacuna(object):\n",
    "    def __init__(self):\n",
    "        self.sinsuero=[]\n",
    "        self.build()\n",
    "    \n",
    "    def build(self):\n",
    "        for s in [\"Inmune\"]:\n",
    "            for v in range(1,2):\n",
    "                self.sinsuero.append(prob(s))\n",
    "        for s in [\"Contagio\"]:\n",
    "            for v in range(1,10):\n",
    "                self.sinsuero.append(prob(s))\n",
    "\n",
    "    def show(self):\n",
    "        for c in self.sinsuero:\n",
    "            c.show()\n",
    "\n",
    "    def shuffle(self):\n",
    "        for i in range(len(self.sinsuero)-1,0,-1):\n",
    "            r = random.randint(0,i)\n",
    "            self.sinsuero[i],self.sinsuero[r]=self.sinsuero[r],self.sinsuero[i]\n",
    "\n",
    "    def elegir(self):\n",
    "        return self.sinsuero.pop()\n",
    "    \n"
   ]
  },
  {
   "cell_type": "code",
   "execution_count": 39,
   "metadata": {},
   "outputs": [
    {
     "name": "stdout",
     "output_type": "stream",
     "text": [
      "La probabilidad de que al menos una de las dos personas se enferme es: 0.59242\n",
      "Probabilidad teórica: 0.5952\n"
     ]
    }
   ],
   "source": [
    "#Hago la simulación\n",
    "\n",
    "def simulacion5(m_simulaciones):\n",
    "    contagios = 0  \n",
    "\n",
    "    for i in range(m_simulaciones):\n",
    "        a = 0\n",
    "        b = 0\n",
    "        expos = expo()\n",
    "        expos.shuffle()\n",
    "\n",
    "        expos2 = expo()\n",
    "        expos2.shuffle()\n",
    "\n",
    "        vac = vacuna()\n",
    "        vac.shuffle()\n",
    "\n",
    "        antivac = antivacuna()\n",
    "        antivac.shuffle()\n",
    "        \n",
    "        exposicion1 = expos.elegir()\n",
    "        exposicion2 = expos2.elegir()\n",
    "        \n",
    "        \n",
    "        if exposicion1.tipo == \"Exposición\":\n",
    "            vacu=vac.elegir()\n",
    "            if vacu.tipo == \"Contagio\":\n",
    "                contagios += 1\n",
    "                a = 1\n",
    "\n",
    "        if exposicion2.tipo == \"Exposición\":\n",
    "            antivacu = antivac.elegir()\n",
    "            if antivacu.tipo == \"Contagio\":\n",
    "                contagios += 1\n",
    "                b = 1\n",
    "\n",
    "        if a==1 and b==1:\n",
    "            contagios -=1    \n",
    "      \n",
    "        probabilidad = (contagios / m_simulaciones)\n",
    "    return probabilidad   \n",
    "     \n",
    "\n",
    "m_simulaciones = 10**5\n",
    "probabilidad = simulacion5(m_simulaciones)\n",
    "print(\"La probabilidad de que al menos una de las dos personas se enferme es:\", probabilidad)\n",
    "print(\"Probabilidad teórica: 0.5952\")"
   ]
  },
  {
   "cell_type": "markdown",
   "metadata": {},
   "source": [
    "EJERCICIO 2: DISTR. DE PROBABILIDAD DISCRETAS"
   ]
  },
  {
   "cell_type": "markdown",
   "metadata": {},
   "source": [
    "Literal 1 "
   ]
  },
  {
   "cell_type": "code",
   "execution_count": 40,
   "metadata": {},
   "outputs": [
    {
     "data": {
      "text/plain": [
       "<matplotlib.legend.Legend at 0x1da760defd0>"
      ]
     },
     "execution_count": 40,
     "metadata": {},
     "output_type": "execute_result"
    },
    {
     "data": {
      "image/png": "[encoded data removed]",
      "text/plain": [
       "<Figure size 640x480 with 1 Axes>"
      ]
     },
     "metadata": {},
     "output_type": "display_data"
    }
   ],
   "source": [
    "import numpy as np\n",
    "import matplotlib.pyplot as plt\n",
    "\n",
    "ps = np.linspace(0, 1, 500)\n",
    "#ps = [.05, .10, .20, .30, .40]\n",
    "a1_lista = []\n",
    "a5_lista = []\n",
    "\n",
    "for p in ps:\n",
    "    lista = np.random.binomial(5, p, 500)\n",
    "    a1 = 0\n",
    "    for dato in lista:\n",
    "        if dato <= 1:\n",
    "            a1 += 1\n",
    "    a1 = a1/500\n",
    "    lista2 = np.random.binomial(25, p, 500)\n",
    "    a5 = 0\n",
    "    for dato in lista2:\n",
    "        if dato <= 5:\n",
    "            a5 += 1\n",
    "    a5 = a5/500\n",
    "    \n",
    "    a1_lista.append(a1)\n",
    "    a5_lista.append(a5)\n",
    "    \n",
    "plt.plot(ps, a1_lista, label=\"a = 1\")\n",
    "plt.plot(ps, a5_lista, label=\"a = 5\")\n",
    "plt.xlabel(\"P\")\n",
    "plt.ylabel(\"P(a)\")\n",
    "plt.legend()\n",
    "\n"
   ]
  },
  {
   "cell_type": "markdown",
   "metadata": {},
   "source": [
    "PUNTO A)\n",
    "Si usted fuera un vendedor que produce lotes con una fracción defectuosa que va de p = 0 a p = .10,\n",
    "¿cuál de los dos planes de muestreo preferiría?\n",
    "\n",
    "Preferiría el plan de muestreo a = 5, n = 25\n",
    "\n",
    "\n",
    "\n",
    "PUNTO B)\n",
    "Si usted fuera un comprador que desea protegerse contra la aceptación de lotes con una fracción\n",
    "defectuosa que exceda de p = .30, ¿cuál de los dos planes de muestreo preferiría?\n",
    "\n",
    "Preferiría el muestreo a = 5, n = 25"
   ]
  },
  {
   "cell_type": "markdown",
   "metadata": {},
   "source": [
    "Literal 2"
   ]
  },
  {
   "cell_type": "code",
   "execution_count": 41,
   "metadata": {},
   "outputs": [
    {
     "name": "stdout",
     "output_type": "stream",
     "text": [
      "El menor valor de n tal que la probabilidad de que haya al menos n \n",
      " desconexiones en menos de un período de 4 horas es menor que 0.01 es: 4\n"
     ]
    }
   ],
   "source": [
    "# PUNTO A\n",
    "p = 1\n",
    "N = 10**5\n",
    "n = 0\n",
    "\n",
    "while p > 0.01:\n",
    "    n += 1\n",
    "    eventos = np.random.poisson(1, N)\n",
    "    P = 0\n",
    "    for e in eventos:\n",
    "        if e > n:\n",
    "            P += 1\n",
    "    p = P/N\n",
    "\n",
    "\n",
    "print(f\"El menor valor de n tal que la probabilidad de que haya al menos n \\n desconexiones en menos de un período de 4 horas es menor que 0.01 es: {n}\")"
   ]
  },
  {
   "cell_type": "code",
   "execution_count": 42,
   "metadata": {},
   "outputs": [
    {
     "name": "stdout",
     "output_type": "stream",
     "text": [
      "El menor valor del número de horas h tal que la probabilidad de que \n",
      " no haya desconexiones en h horas sea menor que 0.02 es: 17\n"
     ]
    }
   ],
   "source": [
    "# PUNTO B\n",
    "p = 1\n",
    "N = 10**5\n",
    "h = 0\n",
    "\n",
    "while p > 0.02:\n",
    "    lamb = h*1/4\n",
    "    eventos = np.random.poisson(lamb, N)\n",
    "    P = 0\n",
    "    for e in eventos:\n",
    "        if e == 0:\n",
    "            P += 1\n",
    "    p = P/N\n",
    "    h += 1\n",
    "\n",
    "print(f\"El menor valor del número de horas h tal que la probabilidad de que \\n no haya desconexiones en h horas sea menor que 0.02 es: {h}\")"
   ]
  },
  {
   "cell_type": "code",
   "execution_count": 43,
   "metadata": {},
   "outputs": [
    {
     "name": "stdout",
     "output_type": "stream",
     "text": [
      "la probabilidad de que en 3 períodos consecutivos de 4 horas, \n",
      " haya solamente un período de 4 horas sin desconexiones es de: 0.44137\n"
     ]
    }
   ],
   "source": [
    "# PUNTO C\n",
    "N = 10**5\n",
    "n = 3\n",
    "lamb = 1\n",
    "\n",
    "\n",
    "casos_de_exito = 0\n",
    "datos = np.random.poisson(1, N)\n",
    "for i in datos:\n",
    "    if i == 0:\n",
    "        casos_de_exito += 1\n",
    "p = casos_de_exito/N\n",
    "\n",
    "\n",
    "solo_uno = 0\n",
    "eventos = np.random.binomial(n, p, N)\n",
    "for j in eventos:\n",
    "    if j == 1:\n",
    "        solo_uno += 1\n",
    "probabilidad = solo_uno/N\n",
    "print(f\"la probabilidad de que en 3 períodos consecutivos de 4 horas, \\n haya solamente un período de 4 horas sin desconexiones es de: {probabilidad}\")"
   ]
  },
  {
   "cell_type": "code",
   "execution_count": 44,
   "metadata": {},
   "outputs": [
    {
     "name": "stdout",
     "output_type": "stream",
     "text": [
      "la probabilidad de que en 3 períodos consecutivos de 4 horas, \n",
      " haya solamente un período de 4 horas sin desconexiones es de: 0.0116\n"
     ]
    }
   ],
   "source": [
    "#PUNTO D \n",
    "import numpy as np \n",
    "\n",
    "N = 10**5\n",
    "n = 3\n",
    "lamb = 3\n",
    "\n",
    "casos_de_exito = 0\n",
    "datos = np.random.poisson(lamb, N)\n",
    "for i in datos:\n",
    "    if i == 3:\n",
    "        casos_de_exito += 1\n",
    "p = casos_de_exito/N\n",
    "\n",
    "tres = 0\n",
    "eventos = np.random.binomial(n, p, N)\n",
    "for j in eventos:\n",
    "    if j == 3:\n",
    "        tres += 1\n",
    "probabilidad = tres/N\n",
    "\n",
    "print(f\"la probabilidad de que en 3 períodos consecutivos de 4 horas, \\n haya solamente un período de 4 horas sin desconexiones es de: {probabilidad}\")"
   ]
  },
  {
   "cell_type": "markdown",
   "metadata": {},
   "source": [
    "EJERCICIO 3: DISTR. DE PROBABILIDAD CONTÍNUAS. "
   ]
  },
  {
   "cell_type": "markdown",
   "metadata": {},
   "source": [
    "Literal 1 (A y B): Adjuntos en la parte teórica"
   ]
  },
  {
   "cell_type": "markdown",
   "metadata": {},
   "source": [
    "Literal 2"
   ]
  },
  {
   "cell_type": "code",
   "execution_count": 45,
   "metadata": {},
   "outputs": [],
   "source": [
    "import numpy as np"
   ]
  },
  {
   "cell_type": "code",
   "execution_count": 46,
   "metadata": {},
   "outputs": [],
   "source": [
    "N=10**6\n",
    "media = 78.0\n",
    "varianza = 36.0"
   ]
  },
  {
   "cell_type": "markdown",
   "metadata": {},
   "source": [
    "a)."
   ]
  },
  {
   "cell_type": "code",
   "execution_count": 47,
   "metadata": {},
   "outputs": [
    {
     "name": "stdout",
     "output_type": "stream",
     "text": [
      "La probabilidad de que una persona que haga el examen alcance una calificación mayor a 72 es: 0.841608.\n"
     ]
    }
   ],
   "source": [
    "datos = np.random.normal(media, np.sqrt(varianza), N)\n",
    "mayor_de_72 = 0\n",
    "\n",
    "for dato in datos:\n",
    "    if dato > 72:\n",
    "        mayor_de_72 += 1\n",
    "       \n",
    "respuesta = mayor_de_72/N\n",
    "\n",
    "\n",
    "print(f\"La probabilidad de que una persona que haga el examen alcance una calificación mayor a 72 es: {respuesta}.\")"
   ]
  },
  {
   "cell_type": "markdown",
   "metadata": {},
   "source": [
    "b)."
   ]
  },
  {
   "cell_type": "code",
   "execution_count": 48,
   "metadata": {},
   "outputs": [
    {
     "name": "stdout",
     "output_type": "stream",
     "text": [
      "La calificación mínima que un estudiante debe recibir para obtener A es: 85.69485921658936\n"
     ]
    }
   ],
   "source": [
    "datos_ordenados = sorted(datos, reverse = True)\n",
    "i = int(len(datos_ordenados) * 0.1)\n",
    "print(f\"La calificación mínima que un estudiante debe recibir para obtener A es: {datos_ordenados[i]}\")"
   ]
  },
  {
   "cell_type": "markdown",
   "metadata": {},
   "source": [
    "c)."
   ]
  },
  {
   "cell_type": "code",
   "execution_count": 49,
   "metadata": {},
   "outputs": [
    {
     "name": "stdout",
     "output_type": "stream",
     "text": [
      "La calificación mínima que un estudiante debe recibir para pasar el examen es: 81.47979776224325\n"
     ]
    }
   ],
   "source": [
    "i = int(len(datos_ordenados) * 0.281)\n",
    "print(f\"La calificación mínima que un estudiante debe recibir para pasar el examen es: {datos_ordenados[i]}\")"
   ]
  },
  {
   "cell_type": "markdown",
   "metadata": {},
   "source": [
    "d)."
   ]
  },
  {
   "cell_type": "code",
   "execution_count": 50,
   "metadata": {},
   "outputs": [
    {
     "name": "stdout",
     "output_type": "stream",
     "text": [
      "La cantidad de personas con una calificación de 5 o más puntos arriba de la calificación que corta al 25% más bajo es: 43.6937 porciento.\n"
     ]
    }
   ],
   "source": [
    "i = int(len(datos_ordenados) * 0.75)\n",
    "nota_minima = datos_ordenados[i] + 5\n",
    "\n",
    "cantidad_de_personas = 0\n",
    "for j in range(i): #solo lo hago hasta i porque sé que después de este índice no habrá ningún alúmno con una nota mayor a la mínima. \n",
    "    if datos_ordenados[j] >= nota_minima:\n",
    "        cantidad_de_personas += 1\n",
    "\n",
    "print(f\"La cantidad de personas con una calificación de 5 o más puntos arriba de la calificación que corta al 25% más bajo es: {cantidad_de_personas/N*100} porciento.\")"
   ]
  },
  {
   "cell_type": "markdown",
   "metadata": {},
   "source": [
    "e)"
   ]
  },
  {
   "cell_type": "code",
   "execution_count": 51,
   "metadata": {},
   "outputs": [
    {
     "name": "stdout",
     "output_type": "stream",
     "text": [
      "La probabilidad de que, dado que la calificación de un estudiante excede 72, la calificación exceda 84 es de: 0.18893594167355823\n"
     ]
    }
   ],
   "source": [
    "mayor_de_84 = 0\n",
    "for dato in datos:\n",
    "    if dato > 84:\n",
    "        mayor_de_84 += 1\n",
    "\n",
    "p = mayor_de_84/mayor_de_72\n",
    "\n",
    "print(f\"La probabilidad de que, dado que la calificación de un estudiante excede 72, la calificación exceda 84 es de: {p}\")"
   ]
  },
  {
   "cell_type": "markdown",
   "metadata": {},
   "source": [
    "EJERCICIO 4: CADENAS DE MARKOV "
   ]
  },
  {
   "cell_type": "markdown",
   "metadata": {},
   "source": [
    "Literal 1"
   ]
  },
  {
   "cell_type": "code",
   "execution_count": 52,
   "metadata": {},
   "outputs": [
    {
     "name": "stdout",
     "output_type": "stream",
     "text": [
      "La probabilidad de obtener este gen es: 7.500000000000001e-06\n"
     ]
    }
   ],
   "source": [
    "import numpy as np\n",
    "\n",
    "Dict = { 'A': 0, 'C': 1, 'G': 2, 'T': 3}\n",
    "\n",
    "T = np.array([[0.4, 0.2, 0.2, 0.2],\n",
    "              [0.25, 0.25, 0.25, 0.25],\n",
    "              [0.3, 0.3, 0.1, 0.3],\n",
    "              [0.1, 0.1, 0.1, 0.7]])\n",
    "T = T.T\n",
    "\n",
    "initial = np.array([0.25, 0.0, 0.5, 0.25])\n",
    "g = [\"T\", \"G\", \"C\", \"T\", \"C\", \"A\", \"A\", \"A\"]\n",
    "\n",
    "P0 = initial[Dict[g[0]]]\n",
    "probabilidades = []\n",
    "\n",
    "inicial = g[0]\n",
    "for i in range(1, len(g)):\n",
    "    columna = Dict[inicial]\n",
    "    fila = Dict[g[i]]\n",
    "    probabilidades.append(T[fila][columna])\n",
    "    inicial = g[i]\n",
    "\n",
    "for j in probabilidades:\n",
    "    P0 *= j\n",
    "\n",
    "print(f\"La probabilidad de obtener este gen es: {P0}\")"
   ]
  },
  {
   "cell_type": "markdown",
   "metadata": {},
   "source": [
    "Literal 2"
   ]
  },
  {
   "cell_type": "code",
   "execution_count": 53,
   "metadata": {},
   "outputs": [
    {
     "name": "stdout",
     "output_type": "stream",
     "text": [
      "La probabilidad de traducir este gen es: 1.3716864000000004e-06\n"
     ]
    }
   ],
   "source": [
    "gt = [\"A\", \"C\", \"G\", \"A\", \"G\", \"U\", \"U\", \"U\"]\n",
    "Dict2 = { 'U': 0, 'G': 1, 'C': 2, 'A': 3}\n",
    "\n",
    "E = np.array([[0.8, 0., 0., 0.2],\n",
    "              [0.05, 0.9, 0.1, 0.1],\n",
    "              [0.05, 0.1, 0.9, 0.0],\n",
    "              [0.1, 0., 0., 0.7]])\n",
    "\n",
    "p = 1\n",
    "for i in range(0, len(gt)):\n",
    "    columna = Dict[g[i]]\n",
    "    fila = Dict2[gt[i]]\n",
    "    p *= E[fila][columna]\n",
    "\n",
    "print(f\"La probabilidad de traducir este gen es: {p*P0}\")"
   ]
  }
 ],
 "metadata": {
  "kernelspec": {
   "display_name": "Python 3",
   "language": "python",
   "name": "python3"
  },
  "language_info": {
   "codemirror_mode": {
    "name": "ipython",
    "version": 3
   },
   "file_extension": ".py",
   "mimetype": "text/x-python",
   "name": "python",
   "nbconvert_exporter": "python",
   "pygments_lexer": "ipython3",
   "version": "3.11.4"
  },
  "orig_nbformat": 4
 },
 "nbformat": 4,
 "nbformat_minor": 2
}
